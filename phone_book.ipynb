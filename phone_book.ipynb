{
 "cells": [
  {
   "cell_type": "code",
   "execution_count": null,
   "metadata": {},
   "outputs": [],
   "source": [
    "import re \n",
    "regex = \"^[a-zA-Z0-9]+[\\._]?[a-zA-Z0-9]+[@]\\w+[.]\\w{2,3}$\"\n",
    "def check(email):  \n",
    "    if(re.search(regex,email)):  \n",
    "        return True\n",
    "    else:  \n",
    "        return False\n",
    "\n",
    "def searchUser(name):\n",
    "    filename=\"/content/data(1).txt\"\n",
    "    d={}\n",
    "    with open(filename) as f:\n",
    "        for line in f:\n",
    "            userdetails=[]\n",
    "            line=line.strip()\n",
    "            alist=line.split(' ')\n",
    "            userdetails=alist[1],alist[2]\n",
    "            d[alist[0]]=userdetails\n",
    "    user=d.get(name,\"No contact with that name\")\n",
    "    if(len(user)==2):\n",
    "        print(\"Name:\",name)\n",
    "        print(\"Email:\",user[0])\n",
    "        print(\"Phone:\",user[1])\n",
    "    else:\n",
    "        print(user)\n",
    "        addnew=input(\"To add contact, please enter Y or y:  \")\n",
    "        if(addnew==\"Y\" or addnew==\"y\"):  \n",
    "          email=input(\"Please enter Email: \\n \")          \n",
    "          while (check(email)==False):\n",
    "            print(\"Invalid email address format specified\")\n",
    "            email=input(\"Please enter Email:\\n \")\n",
    "          phone=input(\"Please enter Phone \\n\")\n",
    "          f=open('/content/data(1).txt', \"a+\")\n",
    "          f.write('%s %s %s\\n'%(name,phone,email))\n",
    "          f.close()\n",
    "          print('%s Has been added to the text file successfully'%name)\n",
    "           \n",
    "name=input(\"Please enter name to search: \")\n",
    "searchUser(name)"
   ]
  }
 ],
 "metadata": {
  "kernelspec": {
   "display_name": "Python 3",
   "language": "python",
   "name": "python3"
  },
  "language_info": {
   "codemirror_mode": {
    "name": "ipython",
    "version": 3
   },
   "file_extension": ".py",
   "mimetype": "text/x-python",
   "name": "python",
   "nbconvert_exporter": "python",
   "pygments_lexer": "ipython3",
   "version": "3.7.0"
  }
 },
 "nbformat": 4,
 "nbformat_minor": 2
}
